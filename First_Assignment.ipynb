{
 "cells": [
  {
   "cell_type": "markdown",
   "id": "1b4d0f0e",
   "metadata": {},
   "source": [
    "# Basic Variable question\n"
   ]
  },
  {
   "cell_type": "markdown",
   "id": "92d9f8bf",
   "metadata": {},
   "source": [
    "1. Declare two variabels 'X' and 'Y' and assign them interger values. Swap the values without using any temporary variable."
   ]
  },
  {
   "cell_type": "code",
   "execution_count": 7,
   "id": "fb4c4861",
   "metadata": {},
   "outputs": [
    {
     "name": "stdout",
     "output_type": "stream",
     "text": [
      "X = 7 Y = 5\n"
     ]
    }
   ],
   "source": [
    "# Let' Assign x=5 and y=7\n",
    "X=5\n",
    "Y=7\n",
    "X=Y-X\n",
    "Y=Y-X\n",
    "X=Y+X\n",
    "print(\"X =\",X,\"Y =\",Y)"
   ]
  },
  {
   "cell_type": "markdown",
   "id": "8549931a",
   "metadata": {},
   "source": [
    " 2.  Create a program that calculates the area of a rectangle. Take the length and width as inputs from the user and store them in variables. Calculate and display the area."
   ]
  },
  {
   "cell_type": "code",
   "execution_count": 13,
   "id": "f1cdb4fe",
   "metadata": {},
   "outputs": [
    {
     "name": "stdout",
     "output_type": "stream",
     "text": [
      "Enter the length of the rectangle =5\n",
      "Enter the width of the rectangl =5\n",
      "Area of the rectangle is = 25.0\n"
     ]
    }
   ],
   "source": [
    "# Let's get input in float because some value aur in decimals so,\n",
    "l=float(input(\"Enter the length of the rectangle =\"))\n",
    "w=float(input(\"Enter the width of the rectangle =\"))\n",
    "Area=(l*w)\n",
    "print(\"Area of the rectangle is =\",Area)"
   ]
  },
  {
   "cell_type": "markdown",
   "id": "fd232cc9",
   "metadata": {},
   "source": [
    "3. Write a Python program that converts temperatures from Celsius to Fahrenheit. Take the temperature in Celsius as input, store it in a variable, convert it to Fahrenheit, and display the result.\n"
   ]
  },
  {
   "cell_type": "code",
   "execution_count": 42,
   "id": "4af7e0b7",
   "metadata": {},
   "outputs": [
    {
     "name": "stdout",
     "output_type": "stream",
     "text": [
      "Enter the temperature C =38\n",
      "The temperature in Fehranheit is = 100.4 F\n"
     ]
    }
   ],
   "source": [
    "T=float(input(\"Enter the temperature C =\"))\n",
    "F=T*(9/5)+32\n",
    "print(\"The temperature in Fehranheit is =\",F,\"F\")"
   ]
  },
  {
   "cell_type": "markdown",
   "id": "51fb8608",
   "metadata": {},
   "source": [
    "# String Based Question"
   ]
  },
  {
   "cell_type": "markdown",
   "id": "35ca809b",
   "metadata": {},
   "source": [
    "1. Write a Python program that takes a string as input and prints the length of the string.\n"
   ]
  },
  {
   "cell_type": "code",
   "execution_count": 19,
   "id": "ec856384",
   "metadata": {},
   "outputs": [
    {
     "name": "stdout",
     "output_type": "stream",
     "text": [
      "Enter the sringAbhishek Ojha\n",
      " Length of the string is this = 13\n"
     ]
    }
   ],
   "source": [
    "# Let's take input string by user\n",
    "s=input(\"Enter the sring \")\n",
    "len_gth=len(s)\n",
    "print(\" Length of the string is this =\",len_gth)"
   ]
  },
  {
   "cell_type": "markdown",
   "id": "8f0fb008",
   "metadata": {},
   "source": [
    "2. Create a program that takes a sentence from the user and counts the number of vowels (a, e, i, o, u) in the string.\n"
   ]
  },
  {
   "cell_type": "code",
   "execution_count": 27,
   "id": "9837fda2",
   "metadata": {},
   "outputs": [
    {
     "name": "stdout",
     "output_type": "stream",
     "text": [
      "Enter the SentenseAEOUUI\n",
      "a in the sentense 1\n",
      "e in the sentense 1\n",
      "i in the sentense 1\n",
      "o in the sentense 1\n",
      "u in the sentense 2\n"
     ]
    }
   ],
   "source": [
    "# Lets's take sentense by user and get convert the sentense in lower or upper case because it is easy to count\n",
    "sen=input(\"Enter the Sentense \")\n",
    "l_sen=sen.lower()\n",
    "print(\"a in the sentense\",l_sen.count('a'))\n",
    "print(\"e in the sentense\",l_sen.count('e'))\n",
    "print(\"i in the sentense\",l_sen.count('i'))\n",
    "print(\"o in the sentense\",l_sen.count('o'))\n",
    "print(\"u in the sentense\",l_sen.count('u'))"
   ]
  },
  {
   "cell_type": "markdown",
   "id": "5e209865",
   "metadata": {},
   "source": [
    "3. Given a string, reverse the order of characters using string slicing and print the reversed string.\n"
   ]
  },
  {
   "cell_type": "code",
   "execution_count": 28,
   "id": "fdfc20a8",
   "metadata": {},
   "outputs": [
    {
     "name": "stdout",
     "output_type": "stream",
     "text": [
      "Enter the StringAbhishek\n",
      "kehsihbA\n"
     ]
    }
   ],
   "source": [
    "# Let's get input by user\n",
    "s1=input(\"Enter the String  \")\n",
    "print(s1[::-1])"
   ]
  },
  {
   "cell_type": "markdown",
   "id": "1a54dc57",
   "metadata": {},
   "source": [
    "4. Write a program that takes a string as input and checks if it is a palindrome (reads the same forwards and backwards).\n"
   ]
  },
  {
   "cell_type": "code",
   "execution_count": 40,
   "id": "8acb8357",
   "metadata": {},
   "outputs": [
    {
     "name": "stdout",
     "output_type": "stream",
     "text": [
      "Enter the String121\n",
      "False means not a palindrome or True means yes it is palindrome\n",
      "True\n"
     ]
    }
   ],
   "source": [
    "# Let's get input by user and convert into upper or lower case\n",
    "#because some capital lower lower letter in the string are get error in check time \n",
    "s2=input(\"Enter the String  \")\n",
    "Rev=s2[::-1]\n",
    "result=(s2==Rev)\n",
    "print(\"False means not a palindrome or True means yes it is palindrome\")\n",
    "print(result)"
   ]
  },
  {
   "cell_type": "markdown",
   "id": "479670a9",
   "metadata": {},
   "source": [
    "5. Create a program that takes a string as input and removes all the spaces from it. Print the modified string without spaces.\n",
    "\n"
   ]
  },
  {
   "cell_type": "code",
   "execution_count": 49,
   "id": "a0bfd91a",
   "metadata": {},
   "outputs": [
    {
     "name": "stdout",
     "output_type": "stream",
     "text": [
      "Enter the stringAbhishek Ojha.   23\n",
      "After remove space AbhishekOjha.23\n"
     ]
    }
   ],
   "source": [
    "# Let's Get input\n",
    "st=input(\"Enter the string  \")\n",
    "print(\"After remove space\",st.replace(\" \",\"\"))\n"
   ]
  },
  {
   "cell_type": "code",
   "execution_count": null,
   "id": "e1657064",
   "metadata": {},
   "outputs": [],
   "source": []
  }
 ],
 "metadata": {
  "kernelspec": {
   "display_name": "Python 3 (ipykernel)",
   "language": "python",
   "name": "python3"
  },
  "language_info": {
   "codemirror_mode": {
    "name": "ipython",
    "version": 3
   },
   "file_extension": ".py",
   "mimetype": "text/x-python",
   "name": "python",
   "nbconvert_exporter": "python",
   "pygments_lexer": "ipython3",
   "version": "3.9.12"
  }
 },
 "nbformat": 4,
 "nbformat_minor": 5
}
